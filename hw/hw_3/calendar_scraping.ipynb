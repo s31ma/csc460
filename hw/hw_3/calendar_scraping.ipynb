{
 "cells": [
  {
   "cell_type": "code",
   "execution_count": 10,
   "metadata": {},
   "outputs": [
    {
     "name": "stdout",
     "output_type": "stream",
     "text": [
      "File saved to /Users/selmadoganata/classes/csc460/csc460/hw/hw_3/ccny_fall_2021_calendar.csv\n"
     ]
    }
   ],
   "source": [
    "import requests\n",
    "from bs4 import BeautifulSoup\n",
    "import pandas as pd\n",
    "\n",
    "# Request the URL\n",
    "url = \"https://www.ccny.cuny.edu/registrar/fall\"\n",
    "response = requests.get(url)\n",
    "if response.status_code == 200:\n",
    "    html_content = response.text\n",
    "else:\n",
    "    print(f\"Failed to retrieve the web page. Status code: {response.status_code}\")\n",
    "    exit()\n",
    "\n",
    "# Parse the HTML content with BeautifulSoup\n",
    "soup = BeautifulSoup(html_content, 'html.parser')\n",
    "\n",
    "# Find the relevant <td> tags with event information\n",
    "td_tags = soup.find_all('td', style=\"width:617px\")\n",
    "events = []\n",
    "\n",
    "# Loop through each <td> tag to extract the date, dow, and event text\n",
    "for td in td_tags:\n",
    "    p_tag = td.find('p')\n",
    "    if p_tag:\n",
    "        event_text = p_tag.get_text(strip=True)\n",
    "\n",
    "        # Find the corresponding date in the previous row\n",
    "        tr_tag = td.find_previous('tr')\n",
    "        if tr_tag:\n",
    "            date_tag = tr_tag.find_all('td')[0]\n",
    "            if date_tag:\n",
    "                date_text = date_tag.get_text(strip=True)\n",
    "            else:\n",
    "                date_text = \"Date not found\"\n",
    "        else:\n",
    "            date_text = \"Date not found\"\n",
    "\n",
    "        # Find the dow (text) from the sibling <td>\n",
    "        dow_tag = td.find_previous_sibling('td')\n",
    "        if dow_tag:\n",
    "            dow_text = dow_tag.get_text(strip=True)\n",
    "        else:\n",
    "            dow_text = \"Dow not found\"\n",
    "\n",
    "        # Store the extracted data\n",
    "        events.append({\n",
    "            'date': date_text,\n",
    "            'dow': dow_text,\n",
    "            'text': event_text\n",
    "        })\n",
    "\n",
    "# Convert the list to a DataFrame\n",
    "df = pd.DataFrame(events)\n",
    "\n",
    "# Save the DataFrame to a CSV file\n",
    "save_path = '/Users/selmadoganata/classes/csc460/csc460/hw/hw_3/ccny_fall_2021_calendar.csv'\n",
    "df.to_csv(save_path, index=False)\n",
    "\n",
    "print(f\"File saved to {save_path}\")\n"
   ]
  }
 ],
 "metadata": {
  "kernelspec": {
   "display_name": "base",
   "language": "python",
   "name": "python3"
  },
  "language_info": {
   "codemirror_mode": {
    "name": "ipython",
    "version": 3
   },
   "file_extension": ".py",
   "mimetype": "text/x-python",
   "name": "python",
   "nbconvert_exporter": "python",
   "pygments_lexer": "ipython3",
   "version": "3.9.13"
  }
 },
 "nbformat": 4,
 "nbformat_minor": 2
}
